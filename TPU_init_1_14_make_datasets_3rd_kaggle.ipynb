{
  "nbformat": 4,
  "nbformat_minor": 0,
  "metadata": {
    "colab": {
      "name": "TPU_init_1.14_make_datasets_3rd_kaggle.ipynb",
      "version": "0.3.2",
      "provenance": [],
      "collapsed_sections": [],
      "toc_visible": true,
      "include_colab_link": true
    },
    "kernelspec": {
      "name": "python3",
      "display_name": "Python 3"
    },
    "accelerator": "GPU"
  },
  "cells": [
    {
      "cell_type": "markdown",
      "metadata": {
        "id": "view-in-github",
        "colab_type": "text"
      },
      "source": [
        "<a href=\"https://colab.research.google.com/github/taejjing/cloud_tpu_example/blob/master/TPU_init_1_14_make_datasets_3rd_kaggle.ipynb\" target=\"_parent\"><img src=\"https://colab.research.google.com/assets/colab-badge.svg\" alt=\"Open In Colab\"/></a>"
      ]
    },
    {
      "cell_type": "markdown",
      "metadata": {
        "id": "J3alVYbTmCv1",
        "colab_type": "text"
      },
      "source": [
        "## Loading Tensorflow & check the version 1.14"
      ]
    },
    {
      "cell_type": "code",
      "metadata": {
        "id": "xYlqXAnongwD",
        "colab_type": "code",
        "outputId": "06f0ceaf-1502-4e8d-992d-f93f09257bf3",
        "colab": {
          "base_uri": "https://localhost:8080/",
          "height": 34
        }
      },
      "source": [
        "from __future__ import absolute_import, division, print_function, unicode_literals\n",
        "\n",
        "import tensorflow as tf\n",
        "tf.enable_eager_execution()\n",
        "# AUTOTUNE = tf.data.experimental.AUTOTUNE\n",
        "\n",
        "print(tf.__version__)"
      ],
      "execution_count": 0,
      "outputs": [
        {
          "output_type": "stream",
          "text": [
            "1.14.0\n"
          ],
          "name": "stdout"
        }
      ]
    },
    {
      "cell_type": "markdown",
      "metadata": {
        "id": "eV54OyLQ6Fxx",
        "colab_type": "text"
      },
      "source": [
        "## Google auth login\n",
        "\n",
        "If you wanna use Colab TPU, you must access your GCS bucket.\n",
        "so,  you should run the below code to get permession to access your own GCS."
      ]
    },
    {
      "cell_type": "code",
      "metadata": {
        "id": "fG7_uGIS2xJo",
        "colab_type": "code",
        "colab": {}
      },
      "source": [
        "from google.colab import auth\n",
        "auth.authenticate_user()"
      ],
      "execution_count": 0,
      "outputs": []
    },
    {
      "cell_type": "markdown",
      "metadata": {
        "id": "bfBRG92a6L0A",
        "colab_type": "text"
      },
      "source": [
        "## Kaggle init & Download data\n",
        "you should upload that file to this vm for using kaggle api to download kaggle datasets.\n",
        "My kaggle key is stored on my own bucket."
      ]
    },
    {
      "cell_type": "code",
      "metadata": {
        "id": "bkwI1HAZdh6c",
        "colab_type": "code",
        "colab": {}
      },
      "source": [
        "DATA_PATH = '/content'"
      ],
      "execution_count": 0,
      "outputs": []
    },
    {
      "cell_type": "code",
      "metadata": {
        "colab_type": "code",
        "outputId": "9fce7046-0553-4c19-d216-e812e404c7f6",
        "id": "eDV9iC1Xnduz",
        "colab": {
          "base_uri": "https://localhost:8080/",
          "height": 68
        },
        "cellView": "both"
      },
      "source": [
        "burketName = \"Your Bucket Name\" #@param {type:\"string\"}\n",
        "\n",
        "! gsutil cp {burketName}/kaggle.json ~/.kaggle/kaggle.json\n",
        "! chmod 600 ~/.kaggle/kaggle.json"
      ],
      "execution_count": 0,
      "outputs": [
        {
          "output_type": "stream",
          "text": [
            "Copying gs://tj-kaggle/kaggle.json...\n",
            "/ [1 files][   63.0 B/   63.0 B]                                                \n",
            "Operation completed over 1 objects/63.0 B.                                       \n"
          ],
          "name": "stdout"
        }
      ]
    },
    {
      "cell_type": "code",
      "metadata": {
        "id": "F007R6xE2-wT",
        "colab_type": "code",
        "outputId": "9f59476c-3972-4294-a829-0d8978f6d674",
        "colab": {
          "base_uri": "https://localhost:8080/",
          "height": 341
        }
      },
      "source": [
        "! kaggle competitions download -c 2019-3rd-ml-month-with-kakr -p {DATA_PATH}"
      ],
      "execution_count": 0,
      "outputs": [
        {
          "output_type": "stream",
          "text": [
            "Downloading sample_submission.csv to /content\n",
            "\r  0% 0.00/108k [00:00<?, ?B/s]\n",
            "100% 108k/108k [00:00<00:00, 33.8MB/s]\n",
            "Downloading test.csv to /content\n",
            "  0% 0.00/184k [00:00<?, ?B/s]\n",
            "100% 184k/184k [00:00<00:00, 54.7MB/s]\n",
            "Downloading test.zip to /content\n",
            "100% 699M/700M [00:12<00:00, 70.6MB/s]\n",
            "100% 700M/700M [00:13<00:00, 56.3MB/s]\n",
            "Downloading train.csv to /content\n",
            "  0% 0.00/343k [00:00<?, ?B/s]\n",
            "100% 343k/343k [00:00<00:00, 110MB/s]\n",
            "Downloading train.zip to /content\n",
            " 99% 1.13G/1.14G [00:19<00:00, 87.1MB/s]\n",
            "100% 1.14G/1.14G [00:19<00:00, 62.2MB/s]\n",
            "Downloading class.csv to /content\n",
            "  0% 0.00/6.19k [00:00<?, ?B/s]\n",
            "100% 6.19k/6.19k [00:00<00:00, 5.39MB/s]\n"
          ],
          "name": "stdout"
        }
      ]
    },
    {
      "cell_type": "code",
      "metadata": {
        "id": "wN55R6Kw45zW",
        "colab_type": "code",
        "outputId": "88dbd278-4540-488f-a237-a6b1fd347c14",
        "colab": {
          "base_uri": "https://localhost:8080/",
          "height": 53
        }
      },
      "source": [
        "%%time\n",
        "! unzip -q train.zip -d train\n",
        "! unzip -q test.zip -d test"
      ],
      "execution_count": 0,
      "outputs": [
        {
          "output_type": "stream",
          "text": [
            "CPU times: user 152 ms, sys: 31 ms, total: 183 ms\n",
            "Wall time: 22.6 s\n"
          ],
          "name": "stdout"
        }
      ]
    },
    {
      "cell_type": "markdown",
      "metadata": {
        "id": "-29ih1k16WXl",
        "colab_type": "text"
      },
      "source": [
        "## Data Load"
      ]
    },
    {
      "cell_type": "code",
      "metadata": {
        "id": "0ZYIAhZrn7mQ",
        "colab_type": "code",
        "colab": {}
      },
      "source": [
        "import os\n",
        "import pandas as pd"
      ],
      "execution_count": 0,
      "outputs": []
    },
    {
      "cell_type": "code",
      "metadata": {
        "id": "PkUEdqpl6aEF",
        "colab_type": "code",
        "colab": {}
      },
      "source": [
        "# 이미지 폴더 경로\n",
        "TRAIN_IMG_PATH = os.path.join(DATA_PATH, 'train')\n",
        "TEST_IMG_PATH = os.path.join(DATA_PATH, 'test')\n",
        "\n",
        "# CSV 파일 경로\n",
        "df_train = pd.read_csv(os.path.join(DATA_PATH, 'train.csv'))\n",
        "df_test = pd.read_csv(os.path.join(DATA_PATH, 'test.csv'))\n",
        "df_class = pd.read_csv(os.path.join(DATA_PATH, 'class.csv'))"
      ],
      "execution_count": 0,
      "outputs": []
    },
    {
      "cell_type": "code",
      "metadata": {
        "id": "ldrc8Z9buaV-",
        "colab_type": "code",
        "colab": {}
      },
      "source": [
        "train_size = df_train.shape[0]"
      ],
      "execution_count": 0,
      "outputs": []
    },
    {
      "cell_type": "code",
      "metadata": {
        "id": "FumB-sB5oAFF",
        "colab_type": "code",
        "colab": {}
      },
      "source": [
        "df_train['img_file'] = df_train['img_file'].map(lambda x : \"/content/train/\" + x)\n",
        "all_image_paths = df_train['img_file'].tolist()\n",
        "all_image_labels  = df_train['class'].tolist()"
      ],
      "execution_count": 0,
      "outputs": []
    },
    {
      "cell_type": "code",
      "metadata": {
        "id": "a8ABVbCwup1I",
        "colab_type": "code",
        "colab": {}
      },
      "source": [
        "def _bytes_feature(value):\n",
        "  \"\"\"Returns a bytes_list from a string / byte.\"\"\"\n",
        "  return tf.train.Feature(bytes_list=tf.train.BytesList(value=[value]))\n",
        "\n",
        "def _float_feature(value):\n",
        "  \"\"\"Returns a float_list from a float / double.\"\"\"\n",
        "  return tf.train.Feature(float_list=tf.train.FloatList(value=[value]))\n",
        "\n",
        "def _int64_feature(value):\n",
        "  \"\"\"Returns an int64_list from a bool / enum / int / uint.\"\"\"\n",
        "  return tf.train.Feature(int64_list=tf.train.Int64List(value=[value]))"
      ],
      "execution_count": 0,
      "outputs": []
    },
    {
      "cell_type": "code",
      "metadata": {
        "id": "oOOcbaodtcu6",
        "colab_type": "code",
        "colab": {}
      },
      "source": [
        "# Create a dictionary with features that may be relevant.\n",
        "def image_example(image_string, label):\n",
        "  \n",
        "  image_shape = tf.image.decode_jpeg(image_string).shape\n",
        "\n",
        "  feature = {\n",
        "      'height': _int64_feature(image_shape[0]),\n",
        "      'width': _int64_feature(image_shape[1]),\n",
        "      'depth': _int64_feature(image_shape[2]),\n",
        "      'label': _int64_feature(label),\n",
        "      'image_raw': _bytes_feature(image_string),\n",
        "  }\n",
        "  return tf.train.Example(features=tf.train.Features(feature=feature))"
      ],
      "execution_count": 0,
      "outputs": []
    },
    {
      "cell_type": "code",
      "metadata": {
        "id": "tCyasmKGtqA4",
        "colab_type": "code",
        "colab": {}
      },
      "source": [
        "with tf.python_io.TFRecordWriter('images.tfrecords') as writer:\n",
        "  for i in range(train_size) :\n",
        "    filename = all_image_paths[i]\n",
        "    label = all_image_labels[i]\n",
        "    \n",
        "    image_string = open(filename, 'rb').read()\n",
        "    \n",
        "    tf_example = image_example(image_string, label)\n",
        "    \n",
        "    writer.write(tf_example.SerializeToString())"
      ],
      "execution_count": 0,
      "outputs": []
    },
    {
      "cell_type": "markdown",
      "metadata": {
        "id": "sYuazSKNpMM5",
        "colab_type": "text"
      },
      "source": [
        "## Upload tfrecord file to your own GCS"
      ]
    },
    {
      "cell_type": "code",
      "metadata": {
        "id": "8FloYIh1xZDq",
        "colab_type": "code",
        "outputId": "5d40ec2c-a9fe-4fdd-d81d-8cb5a88d2ded",
        "colab": {
          "base_uri": "https://localhost:8080/",
          "height": 287
        }
      },
      "source": [
        "!gsutil -m cp /content/images.tfrecords  gs://{burketName}/myData/ "
      ],
      "execution_count": 0,
      "outputs": [
        {
          "output_type": "stream",
          "text": [
            "Copying file:///content/images.tfrecords [Content-Type=application/octet-stream]...\n",
            "==> NOTE: You are uploading one or more large file(s), which would run\n",
            "significantly faster if you enable parallel composite uploads. This\n",
            "feature can be enabled by editing the\n",
            "\"parallel_composite_upload_threshold\" value in your .boto\n",
            "configuration file. However, note that if you do this large files will\n",
            "be uploaded as `composite objects\n",
            "<https://cloud.google.com/storage/docs/composite-objects>`_,which\n",
            "means that any user who downloads such objects will need to have a\n",
            "compiled crcmod installed (see \"gsutil help crcmod\"). This is because\n",
            "without a compiled crcmod, computing checksums on composite objects is\n",
            "so slow that gsutil disables downloads of composite objects.\n",
            "\n",
            "|\n",
            "Operation completed over 1 objects/1.2 GiB.                                      \n"
          ],
          "name": "stdout"
        }
      ]
    }
  ]
}